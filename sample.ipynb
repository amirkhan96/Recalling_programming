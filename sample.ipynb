{
 "cells": [
  {
   "metadata": {},
   "cell_type": "markdown",
   "source": [
    "# This is a sample Jupyter Notebook\n",
    "\n",
    "Below is an example of a code cell.\n",
    "Put your cursor into the cell and press Shift+Enter to execute it and select the next one, or click 'Run Cell' button.\n",
    "\n",
    "Press Double Shift to search everywhere for classes, files, tool windows, actions, and settings.\n",
    "\n",
    "To learn more about Jupyter Notebooks in PyCharm, see [help](https://www.jetbrains.com/help/pycharm/ipython-notebook-support.html).\n",
    "For an overview of PyCharm, go to Help -> Learn IDE features or refer to [our documentation](https://www.jetbrains.com/help/pycharm/getting-started.html)."
   ],
   "id": "8a77807f92f26ee"
  },
  {
   "metadata": {
    "ExecuteTime": {
     "end_time": "2024-11-21T10:54:56.977433Z",
     "start_time": "2024-11-21T10:54:52.987047Z"
    }
   },
   "cell_type": "code",
   "source": [
    "import numpy as np\n",
    "import matplotlib.pyplot as plt\n",
    "import string\n",
    "from sklearn.model_selection import train_test_split"
   ],
   "id": "7915d4bc74461af6",
   "outputs": [],
   "execution_count": 1
  },
  {
   "metadata": {},
   "cell_type": "markdown",
   "source": [
    "import numpy as np\n",
    "import matplotlib.pyplot as plt\n",
    "import string\n",
    "from sklearn.model_selection import train_test_split"
   ],
   "id": "69d815a4309f9f51"
  },
  {
   "metadata": {
    "ExecuteTime": {
     "end_time": "2024-11-20T14:15:43.208471Z",
     "start_time": "2024-11-20T14:15:40.231035Z"
    }
   },
   "cell_type": "code",
   "outputs": [
    {
     "name": "stdout",
     "output_type": "stream",
     "text": [
      "Content of file 1:\n",
      "LO! Death hath rear'd himself a throne\n",
      "In a strange city, all alone,\n",
      "Far down within the dim west\n",
      "Where the good, and the bad, and the worst, and the best,\n",
      "Have gone to their eternal rest.\n",
      " \n",
      "There shrines, and palaces, and towers\n",
      "Are not like any thing of ours\n",
      "Oh no! O no! ours never loom\n",
      "To heaven with that ungodly gloom!\n",
      "Time-eaten towers that tremble not!\n",
      "Resemble nothing that is ours.\n",
      "Around, by lifting winds forgot,\n",
      "Resignedly beneath the sky\n",
      "The melancholy waters lie.\n",
      " \n",
      "No holy rays from h...\n",
      "\n",
      "Content of file 2:\n",
      "Two roads diverged in a yellow wood,\n",
      "And sorry I could not travel both\n",
      "And be one traveler, long I stood\n",
      "And looked down one as far as I could\n",
      "To where it bent in the undergrowth; \n",
      "\n",
      "Then took the other, as just as fair,\n",
      "And having perhaps the better claim\n",
      "Because it was grassy and wanted wear,\n",
      "Though as for that the passing there\n",
      "Had worn them really about the same,\n",
      "\n",
      "And both that morning equally lay\n",
      "In leaves no step had trodden black.\n",
      "Oh, I kept the first for another day! \n",
      "Yet knowing how way ...\n",
      "\n"
     ]
    }
   ],
   "execution_count": 42,
   "source": [
    "import requests\n",
    "\n",
    "# List of URLs for the text files\n",
    "text_file_urls = [\n",
    "    \"https://raw.githubusercontent.com/nihalmorshed/Markov-Model-Classifier/main/edgar_allan_poe.txt\",\n",
    "    \"https://raw.githubusercontent.com/nihalmorshed/Markov-Model-Classifier/main/robert_frost.txt\"\n",
    "]\n",
    "\n",
    "# Initialize a list to store file contents\n",
    "file_contents = []\n",
    "\n",
    "# Loop through the URLs and fetch the file content\n",
    "for url in text_file_urls:\n",
    "    response = requests.get(url)\n",
    "    if response.status_code == 200:\n",
    "        file_contents.append(response.text)\n",
    "    else:\n",
    "        print(f\"Failed to fetch content from {url}\")\n",
    "\n",
    "# Print or process the file contents\n",
    "for idx, content in enumerate(file_contents, start=1):\n",
    "    print(f\"Content of file {idx}:\\n{content[:500]}...\\n\")  # Print the first 500 characters\n"
   ],
   "id": "e80701f78e7fa045"
  },
  {
   "metadata": {},
   "cell_type": "markdown",
   "source": "",
   "id": "bc08140602adbfd7"
  }
 ],
 "metadata": {
  "kernelspec": {
   "display_name": "Python 3",
   "language": "python",
   "name": "python3"
  },
  "language_info": {
   "codemirror_mode": {
    "name": "ipython",
    "version": 2
   },
   "file_extension": ".py",
   "mimetype": "text/x-python",
   "name": "python",
   "nbconvert_exporter": "python",
   "pygments_lexer": "ipython2",
   "version": "2.7.6"
  }
 },
 "nbformat": 4,
 "nbformat_minor": 5
}
